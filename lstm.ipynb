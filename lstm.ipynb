{
  "nbformat": 4,
  "nbformat_minor": 0,
  "metadata": {
    "colab": {
      "name": "lstm.ipynb",
      "provenance": [],
      "collapsed_sections": []
    },
    "kernelspec": {
      "name": "python3",
      "display_name": "Python 3"
    },
    "accelerator": "TPU"
  },
  "cells": [
    {
      "cell_type": "code",
      "metadata": {
        "id": "NYNnv6ZP1OEt",
        "colab_type": "code",
        "outputId": "0e2f34f0-9c81-482d-d32d-092aee82ce9e",
        "colab": {
          "base_uri": "https://localhost:8080/",
          "height": 84
        }
      },
      "source": [
        "# This Python 3 environment comes with many helpful analytics libraries installed\n",
        "# It is defined by the kaggle/python docker image: https://github.com/kaggle/docker-python\n",
        "# For example, here's several helpful packages to load in \n",
        "import spacy\n",
        "import numpy as np # linear algebra\n",
        "import pandas as pd # data processing, CSV file I/O (e.g. pd.read_csv)\n",
        "from tensorflow.keras.layers import Dense, Embedding, LSTM, SpatialDropout1D\n",
        "from tensorflow.keras.models import Sequential\n",
        "from sklearn.feature_extraction.text import CountVectorizer\n",
        "from keras.preprocessing.text import Tokenizer\n",
        "from keras.preprocessing.sequence import pad_sequences\n",
        "from sklearn.model_selection import train_test_split\n",
        "from keras.utils.np_utils import to_categorical\n",
        "from tensorflow.keras.callbacks import EarlyStopping\n",
        "from sklearn.metrics import confusion_matrix\n",
        "from sklearn.metrics import f1_score\n",
        "\n",
        "\n",
        "# Input data files are available in the \"../input/\" directory.\n",
        "# For example, running this (by clicking run or pressing Shift+Enter) will list the files in the input directory\n",
        "\n",
        "import os\n",
        "!pip install ipython-autotime\n",
        "%load_ext autotime\n",
        "\n",
        "\n",
        "# import scispacy\n",
        "# import spacy"
      ],
      "execution_count": 0,
      "outputs": [
        {
          "output_type": "stream",
          "text": [
            "Requirement already satisfied: ipython-autotime in /usr/local/lib/python3.6/dist-packages (0.1)\n",
            "The autotime extension is already loaded. To reload it, use:\n",
            "  %reload_ext autotime\n",
            "time: 3.42 s\n"
          ],
          "name": "stdout"
        }
      ]
    },
    {
      "cell_type": "code",
      "metadata": {
        "id": "VF7tfjiF_03W",
        "colab_type": "code",
        "outputId": "5cce9b24-69ea-4dd8-d5a5-efdae868f466",
        "colab": {
          "base_uri": "https://localhost:8080/",
          "height": 50
        }
      },
      "source": [
        "\n",
        "from google.colab import drive\n",
        "drive.mount('/content/drive')"
      ],
      "execution_count": 0,
      "outputs": [
        {
          "output_type": "stream",
          "text": [
            "Drive already mounted at /content/drive; to attempt to forcibly remount, call drive.mount(\"/content/drive\", force_remount=True).\n",
            "time: 3.15 ms\n"
          ],
          "name": "stdout"
        }
      ]
    },
    {
      "cell_type": "code",
      "metadata": {
        "id": "kDzrLD2Q4O86",
        "colab_type": "code",
        "outputId": "b27686ca-6ae8-40a2-d2e9-509541b80f3d",
        "colab": {
          "base_uri": "https://localhost:8080/",
          "height": 185
        }
      },
      "source": [
        "data = pd.read_csv('/content/drive/My Drive/ontosamples.csv', usecols=['text', 'label'],encoding=\"ISO-8859-1\")\n",
        "\n",
        "# model.save('/content/drive/My Drive/ontosamples.csv')\n",
        "\n",
        "# data.dropna()\n",
        "data.info()"
      ],
      "execution_count": 0,
      "outputs": [
        {
          "output_type": "stream",
          "text": [
            "<class 'pandas.core.frame.DataFrame'>\n",
            "RangeIndex: 396220 entries, 0 to 396219\n",
            "Data columns (total 2 columns):\n",
            " #   Column  Non-Null Count   Dtype \n",
            "---  ------  --------------   ----- \n",
            " 0   text    396220 non-null  object\n",
            " 1   label   396220 non-null  object\n",
            "dtypes: object(2)\n",
            "memory usage: 6.0+ MB\n",
            "time: 522 ms\n"
          ],
          "name": "stdout"
        }
      ]
    },
    {
      "cell_type": "code",
      "metadata": {
        "id": "v6svge1a38m0",
        "colab_type": "code",
        "outputId": "07e3ebeb-434e-4e82-ba66-8e63e6a1e587",
        "colab": {
          "base_uri": "https://localhost:8080/",
          "height": 463
        }
      },
      "source": [
        "\n",
        "print(\"Labelcount:\",len(data.index))\n",
        "print(\"\\nCategory of labels\\n\")\n",
        "print(data.label.value_counts())\n",
        "\n",
        "import seaborn as sns\n",
        "import matplotlib.pyplot as plt\n",
        "\n",
        "ax = sns.countplot(data.label)\n",
        "plt.xlabel(\"Type\")\n",
        "plt.ylabel(\"Text Count\")\n",
        "plt.title(\"Type of texts\")\n",
        "\n",
        "\n"
      ],
      "execution_count": 0,
      "outputs": [
        {
          "output_type": "stream",
          "text": [
            "Labelcount: 396220\n",
            "\n",
            "Category of labels\n",
            "\n",
            "anatomy    209948\n",
            "drug       112120\n",
            "problem     74152\n",
            "Name: label, dtype: int64\n"
          ],
          "name": "stdout"
        },
        {
          "output_type": "execute_result",
          "data": {
            "text/plain": [
              "Text(0.5, 1.0, 'Type of texts')"
            ]
          },
          "metadata": {
            "tags": []
          },
          "execution_count": 16
        },
        {
          "output_type": "display_data",
          "data": {
            "image/png": "[encoded data removed]",
            "text/plain": [
              "<Figure size 432x288 with 1 Axes>"
            ]
          },
          "metadata": {
            "tags": []
          }
        },
        {
          "output_type": "stream",
          "text": [
            "time: 254 ms\n"
          ],
          "name": "stdout"
        }
      ]
    },
    {
      "cell_type": "code",
      "metadata": {
        "id": "yaXIO8l-Ro_q",
        "colab_type": "code",
        "outputId": "f46093af-e1d7-43c0-8bf9-f5685945dbdf",
        "colab": {
          "base_uri": "https://localhost:8080/",
          "height": 746
        }
      },
      "source": [
        "names = ['Drug', 'Problem', 'Anatomy']\n",
        "values = [112120, 74152, 209948]\n",
        "\n",
        "plt.figure(figsize=(15, 5))\n",
        "\n",
        "plt.subplot(131)\n",
        "plt.bar(names, values,color=['violet','blue','orange'])\n",
        "plt.subplot(132)\n",
        "plt.scatter(names, values)\n",
        "plt.subplot(133)\n",
        "plt.plot(names, values)\n",
        "plt.suptitle('Categorical Plotting')\n",
        "plt.show()\n",
        "\n",
        "\n",
        "print(\"\\n\")\n",
        "\n",
        "names = ['Drug', 'Problem', 'Anatomy']\n",
        "values = [74000, 74000, 74000]\n",
        "\n",
        "plt.figure(figsize=(15, 5))\n",
        "\n",
        "plt.subplot(131)\n",
        "plt.bar(names, values)\n",
        "plt.subplot(132)\n",
        "plt.scatter(names, values)\n",
        "plt.subplot(133)\n",
        "plt.plot(names, values)\n",
        "plt.suptitle('Balanced Categorical Plotting')\n",
        "plt.show()\n",
        "\n"
      ],
      "execution_count": 0,
      "outputs": [
        {
          "output_type": "display_data",
          "data": {
            "image/png": "[encoded data removed]",
            "text/plain": [
              "<Figure size 1080x360 with 3 Axes>"
            ]
          },
          "metadata": {
            "tags": []
          }
        },
        {
          "output_type": "stream",
          "text": [
            "\n",
            "\n"
          ],
          "name": "stdout"
        },
        {
          "output_type": "display_data",
          "data": {
            "image/png": "[encoded data removed]",
            "text/plain": [
              "<Figure size 1080x360 with 3 Axes>"
            ]
          },
          "metadata": {
            "tags": []
          }
        },
        {
          "output_type": "stream",
          "text": [
            "time: 731 ms\n"
          ],
          "name": "stdout"
        }
      ]
    },
    {
      "cell_type": "code",
      "metadata": {
        "id": "yYKq9LKDtbQ1",
        "colab_type": "code",
        "outputId": "af540d51-9a67-4839-8d74-cf68b895b0e2",
        "colab": {
          "base_uri": "https://localhost:8080/",
          "height": 265
        }
      },
      "source": [
        "import matplotlib.pyplot as plt\n",
        "\n",
        "# Pie chart, where the slices will be ordered and plotted counter-clockwise:\n",
        "labels = 'drug', 'problem', 'anatomy'\n",
        "sizes = [112120,74152,209948]\n",
        "# explode = (0,0,0)  # only \"explode\" the 2nd slice (i.e. 'Hogs')\n",
        "\n",
        "fig1, ax1 = plt.subplots()\n",
        "ax1.pie(sizes,labels=labels, autopct='%1.1f%%',\n",
        "        shadow=False, startangle=90,explode = (0, 0, 0.1))\n",
        "ax1.axis('equal')  # Equal aspect ratio ensures that pie is drawn as a circle.\n",
        "\n",
        "plt.show()"
      ],
      "execution_count": 0,
      "outputs": [
        {
          "output_type": "display_data",
          "data": {
            "image/png": "[encoded data removed]",
            "text/plain": [
              "<Figure size 432x288 with 1 Axes>"
            ]
          },
          "metadata": {
            "tags": []
          }
        },
        {
          "output_type": "stream",
          "text": [
            "time: 60.5 ms\n"
          ],
          "name": "stdout"
        }
      ]
    },
    {
      "cell_type": "code",
      "metadata": {
        "id": "1BzPYftX6y7F",
        "colab_type": "code",
        "outputId": "45ee7abf-5a3d-49f9-f0dd-98719bde6320",
        "colab": {
          "base_uri": "https://localhost:8080/",
          "height": 34
        }
      },
      "source": [
        "num_of_categories =74000\n",
        "shuffled = data.reindex(np.random.permutation(data.index))\n",
        "drug = shuffled[shuffled['label'] == 'drug'][:112120]\n",
        "problem = shuffled[shuffled['label'] == 'problem'][:74152]\n",
        "anatomy = shuffled[shuffled['label'] == 'anatomy'][:209948]\n",
        "# severity = shuffled[shuffled['label'] == 'severity'][:num_of_categories]\n",
        "concated = pd.concat([drug,problem,anatomy],ignore_index=True)\n",
        "#Shuffle the dataset\n",
        "concated = concated.reindex(np.random.permutation(concated.index))\n",
        "concated['LABEL'] = 0"
      ],
      "execution_count": 0,
      "outputs": [
        {
          "output_type": "stream",
          "text": [
            "time: 313 ms\n"
          ],
          "name": "stdout"
        }
      ]
    },
    {
      "cell_type": "code",
      "metadata": {
        "id": "GtzAYBTyHvJM",
        "colab_type": "code",
        "outputId": "4c663805-9170-436f-9864-96b90aece3cc",
        "colab": {
          "base_uri": "https://localhost:8080/",
          "height": 386
        }
      },
      "source": [
        "#One-hot encode the lab\n",
        "concated.loc[concated['label'] == 'drug', 'LABEL'] = 0\n",
        "concated.loc[concated['label'] == 'problem', 'LABEL'] = 1\n",
        "concated.loc[concated['label'] == 'anatomy', 'LABEL'] = 2\n",
        "# concated.loc[concated['label'] == 'severity', 'LABEL'] = 3\n",
        "print(concated['LABEL'][:10])\n",
        "labels = to_categorical(concated['LABEL'], num_classes=3)\n",
        "print(labels[:10])\n",
        "# print(concated.keys())\n",
        "if 'label' in concated.keys():\n",
        "    concated.drop(['label'], axis=1)"
      ],
      "execution_count": 0,
      "outputs": [
        {
          "output_type": "stream",
          "text": [
            "172595    1\n",
            "298498    2\n",
            "198389    2\n",
            "318466    2\n",
            "205682    2\n",
            "247240    2\n",
            "271019    2\n",
            "83134     0\n",
            "380430    2\n",
            "126030    1\n",
            "Name: LABEL, dtype: int64\n",
            "[[0. 1. 0.]\n",
            " [0. 0. 1.]\n",
            " [0. 0. 1.]\n",
            " [0. 0. 1.]\n",
            " [0. 0. 1.]\n",
            " [0. 0. 1.]\n",
            " [0. 0. 1.]\n",
            " [1. 0. 0.]\n",
            " [0. 0. 1.]\n",
            " [0. 1. 0.]]\n",
            "time: 138 ms\n"
          ],
          "name": "stdout"
        }
      ]
    },
    {
      "cell_type": "code",
      "metadata": {
        "id": "16eNNtl0IU0z",
        "colab_type": "code",
        "outputId": "829f14ea-edef-405c-e543-8f76114070c5",
        "colab": {
          "base_uri": "https://localhost:8080/",
          "height": 67
        }
      },
      "source": [
        "n_most_common_words = 15000\n",
        "max_len=200\n",
        "tokenizer = Tokenizer(num_words=n_most_common_words, filters='!\"#$%&()*+,-./:;<=>?@[\\]^_`{|}~', lower=True)\n",
        "tokenizer.fit_on_texts(concated['text'].values)\n",
        "sequences = tokenizer.texts_to_sequences(concated['text'].values)\n",
        "word_index = tokenizer.word_index\n",
        "print('Found %s unique tokens.' % len(word_index))\n",
        "\n",
        "X = pad_sequences(sequences, maxlen=max_len)\n",
        "X.shape[1]"
      ],
      "execution_count": 0,
      "outputs": [
        {
          "output_type": "stream",
          "text": [
            "ERROR! Session/line number was not unique in database. History logging moved to new session 60\n",
            "Found 39344 unique tokens.\n"
          ],
          "name": "stdout"
        },
        {
          "output_type": "execute_result",
          "data": {
            "text/plain": [
              "200"
            ]
          },
          "metadata": {
            "tags": []
          },
          "execution_count": 21
        },
        {
          "output_type": "stream",
          "text": [
            "time: 12.4 s\n"
          ],
          "name": "stdout"
        }
      ]
    },
    {
      "cell_type": "code",
      "metadata": {
        "id": "aDuao8YfoRJ-",
        "colab_type": "code",
        "outputId": "be64ae5d-0fa4-401d-d525-3c78a842e7be",
        "colab": {
          "base_uri": "https://localhost:8080/",
          "height": 50
        }
      },
      "source": [
        "\n",
        "X_train, X_test, y_train, y_test = train_test_split(X,labels,test_size=0.30,random_state=42)\n",
        "# print(X_train)\n",
        "print((X_train.shape, y_train.shape, X_test.shape, y_test.shape))\n",
        "\n",
        "# print(X_train[8])"
      ],
      "execution_count": 0,
      "outputs": [
        {
          "output_type": "stream",
          "text": [
            "((277354, 200), (277354, 3), (118866, 200), (118866, 3))\n",
            "time: 239 ms\n"
          ],
          "name": "stdout"
        }
      ]
    },
    {
      "cell_type": "code",
      "metadata": {
        "id": "kap49SbuImq5",
        "colab_type": "code",
        "outputId": "c6085956-9243-48de-9a95-5117606d470e",
        "colab": {
          "base_uri": "https://localhost:8080/",
          "height": 34
        }
      },
      "source": [
        "epochs = 1\n",
        "emb_dim = 100\n",
        "batch_size = 64\n",
        "# labels[:3]"
      ],
      "execution_count": 0,
      "outputs": [
        {
          "output_type": "stream",
          "text": [
            "time: 1.68 ms\n"
          ],
          "name": "stdout"
        }
      ]
    },
    {
      "cell_type": "code",
      "metadata": {
        "id": "aD0l9-wkIyWv",
        "colab_type": "code",
        "outputId": "409a2b9b-345d-416e-c398-2c2d04904232",
        "colab": {
          "base_uri": "https://localhost:8080/",
          "height": 336
        }
      },
      "source": [
        "\n",
        "import random\n",
        "\n",
        "random.seed(134)\n",
        "model = Sequential()\n",
        "model.add(Embedding(n_most_common_words, emb_dim, input_length=X.shape[1]))\n",
        "model.add(SpatialDropout1D(0.2))\n",
        "model.add(LSTM(128, dropout=0.2, recurrent_dropout=0.2))\n",
        "model.add(Dense(3, activation='softmax'))\n",
        "model.compile(optimizer='adam', loss='categorical_crossentropy', metrics=['acc'])\n",
        "print(model.summary())\n",
        "history = model.fit(X_train, y_train, epochs=epochs, batch_size=batch_size,validation_split=0.2,callbacks=[EarlyStopping(monitor='val_loss',patience=7, min_delta=0.00001)])\n"
      ],
      "execution_count": 0,
      "outputs": [
        {
          "output_type": "stream",
          "text": [
            "Model: \"sequential_3\"\n",
            "_________________________________________________________________\n",
            "Layer (type)                 Output Shape              Param #   \n",
            "=================================================================\n",
            "embedding_2 (Embedding)      (None, 200, 100)          1500000   \n",
            "_________________________________________________________________\n",
            "spatial_dropout1d_2 (Spatial (None, 200, 100)          0         \n",
            "_________________________________________________________________\n",
            "lstm_2 (LSTM)                (None, 128)               117248    \n",
            "_________________________________________________________________\n",
            "dense_2 (Dense)              (None, 3)                 387       \n",
            "=================================================================\n",
            "Total params: 1,617,635\n",
            "Trainable params: 1,617,635\n",
            "Non-trainable params: 0\n",
            "_________________________________________________________________\n",
            "None\n",
            "3467/3467 [==============================] - 2563s 739ms/step - loss: 0.0734 - acc: 0.9721 - val_loss: 0.0399 - val_acc: 0.9827\n",
            "time: 42min 46s\n"
          ],
          "name": "stdout"
        }
      ]
    },
    {
      "cell_type": "code",
      "metadata": {
        "id": "Ek9_U_7MR9fa",
        "colab_type": "code",
        "outputId": "fa95d8a2-93a9-4d75-dd28-7f7156ff2cec",
        "colab": {
          "base_uri": "https://localhost:8080/",
          "height": 134
        }
      },
      "source": [
        "\n",
        "results = model.evaluate(X_train,y_train)\n",
        "print('Final train set loss: {:4f}'.format(results[0]))\n",
        "print('Final train set accuracy: {:4f}'.format(results[1]))\n",
        "\n",
        "results1 = model.evaluate(X_test,y_test)\n",
        "\n",
        "print('Final test set loss: {:4f}'.format(results1[0]))\n",
        "print('Final test set accuracy: {:4f}'.format(results1[1]))\n"
      ],
      "execution_count": 0,
      "outputs": [
        {
          "output_type": "stream",
          "text": [
            "277354/277354 [==============================] - 543s 2ms/step\n",
            "Final train set loss: 0.022977\n",
            "Final train set accuracy: 0.990737\n",
            "118866/118866 [==============================] - 231s 2ms/step\n",
            "Final test set loss: 0.037886\n",
            "Final test set accuracy: 0.986573\n",
            "time: 12min 53s\n"
          ],
          "name": "stdout"
        }
      ]
    },
    {
      "cell_type": "code",
      "metadata": {
        "id": "mC3unl-_R_L8",
        "colab_type": "code",
        "outputId": "fbc2be00-c074-4b43-cc4e-42870efb2709",
        "colab": {
          "base_uri": "https://localhost:8080/",
          "height": 34
        }
      },
      "source": [
        "y_pred=model.predict(X_test)\n"
      ],
      "execution_count": 0,
      "outputs": [
        {
          "output_type": "stream",
          "text": [
            "time: 3min 31s\n"
          ],
          "name": "stdout"
        }
      ]
    },
    {
      "cell_type": "code",
      "metadata": {
        "id": "X7L5hJ5_kUeI",
        "colab_type": "code",
        "outputId": "78202a64-9145-401f-d683-f8ebcfe2ff2c",
        "colab": {
          "base_uri": "https://localhost:8080/",
          "height": 50
        }
      },
      "source": [
        "\n",
        "y_pred= y_pred>0.8\n",
        "from sklearn.metrics import precision_recall_fscore_support\n",
        "print(precision_recall_fscore_support(y_test,y_pred,average='micro'))\n",
        "\n"
      ],
      "execution_count": 0,
      "outputs": [
        {
          "output_type": "stream",
          "text": [
            "(0.9931005612577134, 0.9617567567567568, 0.9771773787548247, None)\n",
            "time: 57.7 ms\n"
          ],
          "name": "stdout"
        }
      ]
    },
    {
      "cell_type": "code",
      "metadata": {
        "id": "9f2cGqoMh7lb",
        "colab_type": "code",
        "outputId": "55067c92-9b20-482d-9c22-2d711c691979",
        "colab": {
          "base_uri": "https://localhost:8080/",
          "height": 390
        }
      },
      "source": [
        "\n",
        "cm=confusion_matrix( y_test.argmax(axis=1), y_pred.argmax(axis=1))\n",
        "print('The confusion matrix is \\n ')\n",
        "print(cm)\n",
        "fig = plt.figure()\n",
        "ax = fig.add_subplot(111)\n",
        "cax = ax.matshow(cm)\n",
        "\n",
        "plt.title('Confusion matrix of the classifier')\n",
        "fig.colorbar(cax)\n",
        "# ax.set_xticklabels([''] + labels)\n",
        "# ax.set_yticklabels([''] + labels)\n",
        "plt.xlabel('Predicted')\n",
        "plt.ylabel('True')\n",
        "plt.show()\n",
        "\n",
        "\n"
      ],
      "execution_count": 0,
      "outputs": [
        {
          "output_type": "stream",
          "text": [
            "The confusion matrix is \n",
            " \n",
            "[[22072   140    25]\n",
            " [  859 21325    60]\n",
            " [  257    56 21806]]\n"
          ],
          "name": "stdout"
        },
        {
          "output_type": "display_data",
          "data": {
            "image/png": "[encoded data removed]",
            "text/plain": [
              "<Figure size 432x288 with 2 Axes>"
            ]
          },
          "metadata": {
            "tags": []
          }
        },
        {
          "output_type": "execute_result",
          "data": {
            "text/plain": [
              "0.9809159159159159"
            ]
          },
          "metadata": {
            "tags": []
          },
          "execution_count": 17
        },
        {
          "output_type": "stream",
          "text": [
            "time: 253 ms\n"
          ],
          "name": "stdout"
        }
      ]
    },
    {
      "cell_type": "code",
      "metadata": {
        "id": "-BQqCcUYiro6",
        "colab_type": "code",
        "outputId": "866c51b7-1ad2-48a6-dd0f-2cf1579c3294",
        "colab": {
          "base_uri": "https://localhost:8080/",
          "height": 101
        }
      },
      "source": [
        "print(\"The recall and precision for each class\")\n",
        "\n",
        "recall = np.diag(cm) / np.sum(cm, axis = 1)\n",
        "precision = np.diag(cm) / np.sum(cm, axis = 0)\n",
        "\n",
        "print(recall,precision)\n",
        "\n",
        "print(\"The Overall  pecision and recall \")\n",
        "\n",
        "from sklearn.metrics import precision_recall_fscore_support\n",
        "print(precision_recall_fscore_support(y_test,y_pred,average='micro'))\n"
      ],
      "execution_count": 0,
      "outputs": [
        {
          "output_type": "stream",
          "text": [
            "The recall and precision for each class\n",
            "[0.99257993 0.95868549 0.98584927] [0.95187166 0.99089262 0.99611713]\n",
            "The Overall  pecision and recall \n",
            "(0.9931005612577134, 0.9617567567567568, 0.9771773787548247, None)\n",
            "time: 55.6 ms\n"
          ],
          "name": "stdout"
        }
      ]
    },
    {
      "cell_type": "code",
      "metadata": {
        "id": "u-j57fTFSXel",
        "colab_type": "code",
        "outputId": "b8a73c3c-efe9-49b2-fe01-0baaca2141b6",
        "colab": {
          "base_uri": "https://localhost:8080/",
          "height": 314
        }
      },
      "source": [
        "import matplotlib.pyplot as plt\n",
        "\n",
        "acc = history.history['acc']\n",
        "val_acc = history.history['val_acc']\n",
        "loss = history.history['loss']\n",
        "val_loss = history.history['val_loss']\n",
        "\n",
        "epochs = range(1, len(acc) + 1)\n",
        "\n",
        "plt.plot( epochs,acc, 'bo', label='Training acc')\n",
        "plt.plot( epochs,val_acc, 'b', label='Validation acc')\n",
        "plt.title('Training and validation accuracy')\n",
        "plt.legend()\n",
        "\n",
        "plt.figure()\n",
        "\n",
        "# plt.plot(epochs, loss, 'bo', label='Training loss')\n",
        "# plt.plot(epochs, val_loss, 'b', label='Validation loss')\n",
        "# plt.title('Training and validation loss')\n",
        "# plt.legend()\n",
        "\n",
        "plt.show()"
      ],
      "execution_count": 0,
      "outputs": [
        {
          "output_type": "display_data",
          "data": {
            "image/png": "[encoded data removed]",
            "text/plain": [
              "<Figure size 432x288 with 1 Axes>"
            ]
          },
          "metadata": {
            "tags": []
          }
        },
        {
          "output_type": "display_data",
          "data": {
            "text/plain": [
              "<Figure size 432x288 with 0 Axes>"
            ]
          },
          "metadata": {
            "tags": []
          }
        },
        {
          "output_type": "stream",
          "text": [
            "time: 200 ms\n"
          ],
          "name": "stdout"
        }
      ]
    },
    {
      "cell_type": "code",
      "metadata": {
        "id": "RruMZNLwoSPF",
        "colab_type": "code",
        "outputId": "58e77861-b904-454b-89a0-74bf2e299a41",
        "colab": {
          "base_uri": "https://localhost:8080/",
          "height": 868
        }
      },
      "source": [
        "from sklearn.metrics import roc_curve, auc\n",
        "from sklearn import datasets\n",
        "from sklearn.multiclass import OneVsRestClassifier\n",
        "from sklearn.svm import LinearSVC\n",
        "from sklearn.preprocessing import label_binarize\n",
        "\n",
        "import matplotlib.pyplot as plt\n",
        "\n",
        "\n",
        "n_classes = 3\n",
        "\n",
        "# Compute ROC curve and ROC area for each class\n",
        "fpr = dict()\n",
        "tpr = dict()\n",
        "roc_auc = dict()\n",
        "for i in range(n_classes):\n",
        "    fpr[i], tpr[i], _ = roc_curve(y_test[:, i], y_pred[:, i])\n",
        "    roc_auc[i] = auc(fpr[i], tpr[i])\n",
        "\n",
        "# Plot of a ROC curve for a specific class\n",
        "for i in range(n_classes):\n",
        "    plt.figure()\n",
        "    plt.plot(fpr[i], tpr[i], label='ROC curve (area = %0.2f)' % roc_auc[i])\n",
        "    plt.plot([0, 1], [0, 1], 'k--')\n",
        "    plt.xlim([0.0, 1.0])\n",
        "    plt.ylim([0.0, 1.05])\n",
        "    plt.xlabel('False Positive Rate')\n",
        "    plt.ylabel('True Positive Rate')\n",
        "    plt.title('Receiver operating characteristic example')\n",
        "    plt.legend(loc=\"lower right\")\n",
        "    plt.show()\n",
        "\n"
      ],
      "execution_count": 0,
      "outputs": [
        {
          "output_type": "display_data",
          "data": {
            "image/png": "[encoded data removed]",
            "text/plain": [
              "<Figure size 432x288 with 1 Axes>"
            ]
          },
          "metadata": {
            "tags": []
          }
        },
        {
          "output_type": "display_data",
          "data": {
            "image/png": "[encoded data removed]",
            "text/plain": [
              "<Figure size 432x288 with 1 Axes>"
            ]
          },
          "metadata": {
            "tags": []
          }
        },
        {
          "output_type": "display_data",
          "data": {
            "image/png": "[encoded data removed]",
            "text/plain": [
              "<Figure size 432x288 with 1 Axes>"
            ]
          },
          "metadata": {
            "tags": []
          }
        },
        {
          "output_type": "stream",
          "text": [
            "time: 668 ms\n"
          ],
          "name": "stdout"
        }
      ]
    },
    {
      "cell_type": "code",
      "metadata": {
        "id": "Ku5lIRaSoeBr",
        "colab_type": "code",
        "outputId": "8df6787e-bc21-4a95-baa9-0b234a6b2d69",
        "colab": {
          "base_uri": "https://localhost:8080/",
          "height": 67
        }
      },
      "source": [
        "from sklearn.metrics import log_loss\n",
        "print(log_loss(y_test,y_pred))\n",
        "\n",
        "from sklearn.metrics import roc_auc_score\n",
        "print(roc_auc_score(y_test,y_pred))"
      ],
      "execution_count": 0,
      "outputs": [
        {
          "output_type": "stream",
          "text": [
            "0.26545102892666295\n",
            "0.9792287645507362\n",
            "time: 76.2 ms\n"
          ],
          "name": "stdout"
        }
      ]
    },
    {
      "cell_type": "code",
      "metadata": {
        "id": "GMZUYzTtok_l",
        "colab_type": "code",
        "outputId": "293e1eca-037a-45e9-c3e2-5050904d721b",
        "colab": {
          "base_uri": "https://localhost:8080/",
          "height": 34
        }
      },
      "source": [
        "model.save_weights('/content/drive/My Drive/Colab/lastlstm.h5')"
      ],
      "execution_count": 0,
      "outputs": [
        {
          "output_type": "stream",
          "text": [
            "time: 137 ms\n"
          ],
          "name": "stdout"
        }
      ]
    },
    {
      "cell_type": "code",
      "metadata": {
        "id": "NoHun5jxT6WX",
        "colab_type": "code",
        "outputId": "cd7f1519-4e5a-4012-fe71-f4c4fc00229c",
        "colab": {
          "base_uri": "https://localhost:8080/",
          "height": 118
        }
      },
      "source": [
        "import nltk\n",
        "nltk.download('averaged_perceptron_tagger')\n",
        "grammar = (''' NP: {<DT>?<JJ>*<NN>} # NP ''')\n",
        "chunkParser = nltk.RegexpParser(grammar)\n",
        "nltk.download('punkt')"
      ],
      "execution_count": 0,
      "outputs": [
        {
          "output_type": "stream",
          "text": [
            "[nltk_data] Downloading package averaged_perceptron_tagger to\n",
            "[nltk_data]     /root/nltk_data...\n",
            "[nltk_data]   Unzipping taggers/averaged_perceptron_tagger.zip.\n",
            "[nltk_data] Downloading package punkt to /root/nltk_data...\n",
            "[nltk_data]   Unzipping tokenizers/punkt.zip.\n"
          ],
          "name": "stdout"
        },
        {
          "output_type": "execute_result",
          "data": {
            "text/plain": [
              "True"
            ]
          },
          "metadata": {
            "tags": []
          },
          "execution_count": 23
        },
        {
          "output_type": "stream",
          "text": [
            "time: 1.31 s\n"
          ],
          "name": "stdout"
        }
      ]
    },
    {
      "cell_type": "code",
      "metadata": {
        "id": "xl2i1HIkzxnj",
        "colab_type": "code",
        "outputId": "bb8e3ebc-ab12-4e63-9f22-852b8bb09273",
        "colab": {
          "base_uri": "https://localhost:8080/",
          "height": 638
        }
      },
      "source": [
        "! tar xvzf '/content/drive/My Drive/Colab/en_core_sci_sm-0.2.3.tar.gz'"
      ],
      "execution_count": 0,
      "outputs": [
        {
          "output_type": "stream",
          "text": [
            "en_core_sci_sm-0.2.3/\n",
            "en_core_sci_sm-0.2.3/en_core_sci_sm/\n",
            "en_core_sci_sm-0.2.3/en_core_sci_sm/meta.json\n",
            "en_core_sci_sm-0.2.3/en_core_sci_sm/en_core_sci_sm-0.2.3/\n",
            "en_core_sci_sm-0.2.3/en_core_sci_sm/en_core_sci_sm-0.2.3/parser/\n",
            "en_core_sci_sm-0.2.3/en_core_sci_sm/en_core_sci_sm-0.2.3/parser/model\n",
            "en_core_sci_sm-0.2.3/en_core_sci_sm/en_core_sci_sm-0.2.3/parser/moves\n",
            "en_core_sci_sm-0.2.3/en_core_sci_sm/en_core_sci_sm-0.2.3/parser/cfg\n",
            "en_core_sci_sm-0.2.3/en_core_sci_sm/en_core_sci_sm-0.2.3/tagger/\n",
            "en_core_sci_sm-0.2.3/en_core_sci_sm/en_core_sci_sm-0.2.3/tagger/tag_map\n",
            "en_core_sci_sm-0.2.3/en_core_sci_sm/en_core_sci_sm-0.2.3/tagger/model\n",
            "en_core_sci_sm-0.2.3/en_core_sci_sm/en_core_sci_sm-0.2.3/tagger/cfg\n",
            "en_core_sci_sm-0.2.3/en_core_sci_sm/en_core_sci_sm-0.2.3/ner/\n",
            "en_core_sci_sm-0.2.3/en_core_sci_sm/en_core_sci_sm-0.2.3/ner/model\n",
            "en_core_sci_sm-0.2.3/en_core_sci_sm/en_core_sci_sm-0.2.3/ner/moves\n",
            "en_core_sci_sm-0.2.3/en_core_sci_sm/en_core_sci_sm-0.2.3/ner/cfg\n",
            "en_core_sci_sm-0.2.3/en_core_sci_sm/en_core_sci_sm-0.2.3/tokenizer\n",
            "en_core_sci_sm-0.2.3/en_core_sci_sm/en_core_sci_sm-0.2.3/meta.json\n",
            "en_core_sci_sm-0.2.3/en_core_sci_sm/en_core_sci_sm-0.2.3/vocab/\n",
            "en_core_sci_sm-0.2.3/en_core_sci_sm/en_core_sci_sm-0.2.3/vocab/key2row\n",
            "en_core_sci_sm-0.2.3/en_core_sci_sm/en_core_sci_sm-0.2.3/vocab/vectors\n",
            "en_core_sci_sm-0.2.3/en_core_sci_sm/en_core_sci_sm-0.2.3/vocab/lexemes.bin\n",
            "en_core_sci_sm-0.2.3/en_core_sci_sm/en_core_sci_sm-0.2.3/vocab/strings.json\n",
            "en_core_sci_sm-0.2.3/en_core_sci_sm/__init__.py\n",
            "en_core_sci_sm-0.2.3/PKG-INFO\n",
            "en_core_sci_sm-0.2.3/setup.py\n",
            "en_core_sci_sm-0.2.3/MANIFEST.in\n",
            "en_core_sci_sm-0.2.3/meta.json\n",
            "en_core_sci_sm-0.2.3/setup.cfg\n",
            "en_core_sci_sm-0.2.3/en_core_sci_sm.egg-info/\n",
            "en_core_sci_sm-0.2.3/en_core_sci_sm.egg-info/PKG-INFO\n",
            "en_core_sci_sm-0.2.3/en_core_sci_sm.egg-info/dependency_links.txt\n",
            "en_core_sci_sm-0.2.3/en_core_sci_sm.egg-info/top_level.txt\n",
            "en_core_sci_sm-0.2.3/en_core_sci_sm.egg-info/not-zip-safe\n",
            "en_core_sci_sm-0.2.3/en_core_sci_sm.egg-info/SOURCES.txt\n",
            "en_core_sci_sm-0.2.3/en_core_sci_sm.egg-info/requires.txt\n",
            "time: 2.71 s\n"
          ],
          "name": "stdout"
        }
      ]
    },
    {
      "cell_type": "code",
      "metadata": {
        "id": "XoIUAuK0iERa",
        "colab_type": "code",
        "outputId": "101747a4-4c03-4f60-dd59-023a08294118",
        "colab": {
          "base_uri": "https://localhost:8080/",
          "height": 34
        }
      },
      "source": [
        "\n",
        "\n",
        "nlp = spacy.load(\"/content/drive/My Drive/Colab/en_core_sci_sm-0.2.3/en_core_sci_sm/en_core_sci_sm-0.2.3\")\n",
        "text =\"bisphosphonate is given to femur bone for osteonecrosis\"\n",
        "doc = nlp(text)\n",
        "\n",
        "doc.ents\n",
        "\n"
      ],
      "execution_count": 0,
      "outputs": [
        {
          "output_type": "execute_result",
          "data": {
            "text/plain": [
              "(bisphosphonate, femur bone, osteonecrosis)"
            ]
          },
          "metadata": {
            "tags": []
          },
          "execution_count": 25
        },
        {
          "output_type": "stream",
          "text": [
            "time: 8 s\n"
          ],
          "name": "stdout"
        }
      ]
    },
    {
      "cell_type": "code",
      "metadata": {
        "id": "zEIW9gAkYtW_",
        "colab_type": "code",
        "outputId": "973b540d-7e5d-42ae-8229-a9d3d5831b6d",
        "colab": {
          "base_uri": "https://localhost:8080/",
          "height": 487
        }
      },
      "source": [
        "\n",
        "lst=[]\n",
        "b=([x.text for x in doc.ents])\n",
        "for x in b:\n",
        "  \n",
        "# print(text.find(x))\n",
        "  txt =[x]\n",
        "  seq = tokenizer.texts_to_sequences(txt)\n",
        "  padded = pad_sequences(seq, maxlen=max_len)\n",
        "  pred = model.predict(padded)\n",
        "  labels = ['Drug','Problem','Anatomy']\n",
        "  \n",
        "  if(pred.max()>0.00):\n",
        "    print('Text         :',x)\n",
        "    print('START offset :',text.find(x))\n",
        "    print('END offset   :',text.find(x)+len(x))\n",
        "    print('Confidence   :',(pred.max()))\n",
        "    print('Semantics    :',labels[np.argmax(pred)])\n",
        "    print('POS Tag      :',nltk.pos_tag(nltk.word_tokenize(x)))\n",
        "\n",
        "\n",
        "    if(labels[np.argmax(pred)]=='Problem'):\n",
        "      sentiment='Negative'\n",
        "      print('Sentiment    :',sentiment)\n",
        "    else:\n",
        "      sentiment='Neutral'\n",
        "      print('Sentiment    :',sentiment)\n",
        "\n",
        "    print('\\n')\n"
      ],
      "execution_count": 0,
      "outputs": [
        {
          "output_type": "stream",
          "text": [
            "Text         : bisphosphonate\n",
            "START offset : 0\n",
            "END offset   : 14\n",
            "Confidence   : 0.5635185\n",
            "Semantics    : Drug\n",
            "POS Tag      : [('bisphosphonate', 'NN')]\n",
            "Sentiment    : Neutral\n",
            "\n",
            "\n",
            "Text         : femur bone\n",
            "START offset : 27\n",
            "END offset   : 37\n",
            "Confidence   : 0.99956137\n",
            "Semantics    : Anatomy\n",
            "POS Tag      : [('femur', 'NN'), ('bone', 'NN')]\n",
            "Sentiment    : Neutral\n",
            "\n",
            "\n",
            "Text         : osteonecrosis\n",
            "START offset : 42\n",
            "END offset   : 55\n",
            "Confidence   : 0.9998752\n",
            "Semantics    : Problem\n",
            "POS Tag      : [('osteonecrosis', 'NN')]\n",
            "Sentiment    : Negative\n",
            "\n",
            "\n",
            "time: 187 ms\n"
          ],
          "name": "stdout"
        }
      ]
    },
    {
      "cell_type": "code",
      "metadata": {
        "id": "wK4xpJ5rke8n",
        "colab_type": "code",
        "colab": {}
      },
      "source": [
        ""
      ],
      "execution_count": 0,
      "outputs": []
    }
  ]
}